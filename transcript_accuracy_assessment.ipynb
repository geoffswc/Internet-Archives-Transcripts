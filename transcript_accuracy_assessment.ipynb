{
 "cells": [
  {
   "cell_type": "code",
   "execution_count": 105,
   "id": "e44bfb81",
   "metadata": {},
   "outputs": [],
   "source": [
    "import pandas as pd\n",
    "from nltk.translate import bleu_score\n",
    "from jiwer import wer\n",
    "import seaborn as sns\n",
    "import numpy as np\n",
    "import time, datetime"
   ]
  },
  {
   "cell_type": "code",
   "execution_count": 106,
   "id": "1734764a",
   "metadata": {},
   "outputs": [],
   "source": [
    "videos = pd.read_csv(\"video_list.csv\")"
   ]
  },
  {
   "cell_type": "code",
   "execution_count": 107,
   "id": "6c588cf4",
   "metadata": {},
   "outputs": [
    {
     "name": "stderr",
     "output_type": "stream",
     "text": [
      "/var/folders/88/g7gb2zlj44lfv2_8p54ms0880000gn/T/ipykernel_4088/745781065.py:2: SettingWithCopyWarning: \n",
      "A value is trying to be set on a copy of a slice from a DataFrame\n",
      "\n",
      "See the caveats in the documentation: https://pandas.pydata.org/pandas-docs/stable/user_guide/indexing.html#returning-a-view-versus-a-copy\n",
      "  videos['year'].loc[(videos.year > 3000)] = np.nan\n"
     ]
    }
   ],
   "source": [
    "# replace weird year with nan\n",
    "videos['year'].loc[(videos.year > 3000)] = np.nan"
   ]
  },
  {
   "cell_type": "code",
   "execution_count": 108,
   "id": "38047519",
   "metadata": {},
   "outputs": [
    {
     "name": "stdout",
     "output_type": "stream",
     "text": [
      "tobacco_qar62a00.txt not accessible\n",
      "tobacco_ldo23e00.txt not accessible\n",
      "tobacco_gxu03f00.txt not accessible\n",
      "tobacco_gav28d00.txt not accessible\n",
      "tobacco_qyq95i00.txt not accessible\n",
      "tobacco_lxkv0152.txt not accessible\n",
      "tobacco_byv27a00.txt not accessible\n",
      "tobacco_kpp06a00.txt not accessible\n",
      "tobacco_mnjp0149.txt not accessible\n",
      "tobacco_kkm09c00.txt not accessible\n",
      "tobacco_hxkv0152.txt not accessible\n",
      "tobacco_mpp06a00.txt not accessible\n",
      "tobacco_dlm09c00.txt not accessible\n"
     ]
    }
   ],
   "source": [
    "# add transcripts into the dataframe\n",
    "\n",
    "transcripts = pd.DataFrame(columns = ['id', 'computer_transcript', 'human_transcript'])  \n",
    "\n",
    "# will add and join human transcripts here too when we have them \n",
    "\n",
    "for id in videos.id:\n",
    "        \n",
    "    try:\n",
    "        #open text file in read mode\n",
    "        human_transcript_file = open(\"human_transcripts/%s.txt\" % id, \"r\")\n",
    "        \n",
    "        #read whole file to a string\n",
    "        human_transcript = human_transcript_file.read()\n",
    "        \n",
    "        #close file\n",
    "        human_transcript_file.close()\n",
    "        \n",
    "        #open text file in read mode\n",
    "        computer_transcript_file = open(\"computer_transcripts/%s.txt\" % id, \"r\")\n",
    "        \n",
    "        #read whole file to a string\n",
    "        computer_transcript = computer_transcript_file.read()\n",
    "        \n",
    "        #close file\n",
    "        computer_transcript_file.close()\n",
    "        \n",
    "        #add row to transcripts dataframe\n",
    "        transcripts.loc[len(transcripts.index)] = [id, computer_transcript, human_transcript]\n",
    "        \n",
    "    except IOError:\n",
    "        print(\"%s.txt not accessible\" % id )\n",
    "        \n",
    "        \n",
    "videos = videos.merge(transcripts, on='id', how='left')\n",
    "    "
   ]
  },
  {
   "cell_type": "code",
   "execution_count": 109,
   "id": "2faea98b",
   "metadata": {},
   "outputs": [],
   "source": [
    "def clean_transcript(df, transcript_col):\n",
    "    \n",
    "    # if a comma is followed by anything other than a space, replace it with comma space\n",
    "    df[transcript_col] = df[transcript_col].str.replace(\"(?<=[.,])(?=[^\\s])\",\" \")\n",
    "    \n",
    "    # remove commas, semicolons, dashes\n",
    "    df[transcript_col] = df[transcript_col].str.replace(\";\",\"\")\n",
    "    df[transcript_col] = df[transcript_col].str.replace(\":\",\"\")\n",
    "    df[transcript_col] = df[transcript_col].str.replace(\",\",\"\")\n",
    "    df[transcript_col] = df[transcript_col].str.replace(\"-\",\"\")\n",
    "    \n",
    "    # Remove sentence enders\n",
    "    df[transcript_col] = df[transcript_col].str.replace(\"!\",\"\")\n",
    "    df[transcript_col] = df[transcript_col].str.replace(\"?\",\"\")\n",
    "    df[transcript_col] = df[transcript_col].str.replace(\"\\.{2,}\",\"\")\n",
    "    \n",
    "    # convert all to lowercase\n",
    "    df[transcript_col] = df[transcript_col].str.lower()\n",
    "    \n",
    "    # turn the transcript strings into lists of words \n",
    "    # split by spaces\n",
    "    #df[transcript_col] = df[transcript_col].str.split(' ')"
   ]
  },
  {
   "cell_type": "code",
   "execution_count": 110,
   "id": "c26d14e2",
   "metadata": {},
   "outputs": [
    {
     "name": "stderr",
     "output_type": "stream",
     "text": [
      "/var/folders/88/g7gb2zlj44lfv2_8p54ms0880000gn/T/ipykernel_4088/3739907481.py:4: FutureWarning: The default value of regex will change from True to False in a future version.\n",
      "  df[transcript_col] = df[transcript_col].str.replace(\"(?<=[.,])(?=[^\\s])\",\" \")\n",
      "/var/folders/88/g7gb2zlj44lfv2_8p54ms0880000gn/T/ipykernel_4088/3739907481.py:14: FutureWarning: The default value of regex will change from True to False in a future version. In addition, single character regular expressions will *not* be treated as literal strings when regex=True.\n",
      "  df[transcript_col] = df[transcript_col].str.replace(\"?\",\"\")\n",
      "/var/folders/88/g7gb2zlj44lfv2_8p54ms0880000gn/T/ipykernel_4088/3739907481.py:15: FutureWarning: The default value of regex will change from True to False in a future version.\n",
      "  df[transcript_col] = df[transcript_col].str.replace(\"\\.{2,}\",\"\")\n"
     ]
    }
   ],
   "source": [
    "clean_transcript(videos, \"computer_transcript\")"
   ]
  },
  {
   "cell_type": "code",
   "execution_count": 111,
   "id": "3b38146d",
   "metadata": {},
   "outputs": [
    {
     "name": "stderr",
     "output_type": "stream",
     "text": [
      "/var/folders/88/g7gb2zlj44lfv2_8p54ms0880000gn/T/ipykernel_4088/3739907481.py:4: FutureWarning: The default value of regex will change from True to False in a future version.\n",
      "  df[transcript_col] = df[transcript_col].str.replace(\"(?<=[.,])(?=[^\\s])\",\" \")\n",
      "/var/folders/88/g7gb2zlj44lfv2_8p54ms0880000gn/T/ipykernel_4088/3739907481.py:14: FutureWarning: The default value of regex will change from True to False in a future version. In addition, single character regular expressions will *not* be treated as literal strings when regex=True.\n",
      "  df[transcript_col] = df[transcript_col].str.replace(\"?\",\"\")\n",
      "/var/folders/88/g7gb2zlj44lfv2_8p54ms0880000gn/T/ipykernel_4088/3739907481.py:15: FutureWarning: The default value of regex will change from True to False in a future version.\n",
      "  df[transcript_col] = df[transcript_col].str.replace(\"\\.{2,}\",\"\")\n"
     ]
    }
   ],
   "source": [
    "clean_transcript(videos, \"human_transcript\")"
   ]
  },
  {
   "cell_type": "code",
   "execution_count": 112,
   "id": "d5169c37",
   "metadata": {},
   "outputs": [
    {
     "name": "stderr",
     "output_type": "stream",
     "text": [
      "/var/folders/88/g7gb2zlj44lfv2_8p54ms0880000gn/T/ipykernel_4088/4136929632.py:4: FutureWarning: The default value of regex will change from True to False in a future version.\n",
      "  sentiment_scores.file_name = sentiment_scores['file_name'].str.replace(\".txt\",\"\")\n"
     ]
    }
   ],
   "source": [
    "# add sentiment scores\n",
    "sentiment_scores = pd.read_csv(\"computer_human_sentiment_scores.csv\")\n",
    "# remove .txt from filename and rename id \n",
    "sentiment_scores.file_name = sentiment_scores['file_name'].str.replace(\".txt\",\"\")\n",
    "sentiment_scores = sentiment_scores.rename(columns = dict(file_name = 'id'))\n",
    "sentiment_scores = sentiment_scores.drop(columns = ['file_name.1'])\n",
    "\n",
    "# join to videos\n",
    "videos = videos.merge(sentiment_scores, on='id', how='left')"
   ]
  },
  {
   "cell_type": "code",
   "execution_count": 114,
   "id": "2e79a234",
   "metadata": {},
   "outputs": [
    {
     "data": {
      "text/plain": [
       "<AxesSubplot:xlabel='automl_confidence_avg', ylabel='year'>"
      ]
     },
     "execution_count": 114,
     "metadata": {},
     "output_type": "execute_result"
    },
    {
     "data": {
      "image/png": "[encoded data removed]",
      "text/plain": [
       "<Figure size 432x288 with 1 Axes>"
      ]
     },
     "metadata": {
      "needs_background": "light"
     },
     "output_type": "display_data"
    }
   ],
   "source": [
    "sns.scatterplot(x = videos['automl_confidence_avg'], y = videos['year'])"
   ]
  },
  {
   "cell_type": "code",
   "execution_count": 115,
   "id": "4f330751",
   "metadata": {},
   "outputs": [
    {
     "name": "stderr",
     "output_type": "stream",
     "text": [
      "/var/folders/88/g7gb2zlj44lfv2_8p54ms0880000gn/T/ipykernel_4088/4049123537.py:7: SettingWithCopyWarning: \n",
      "A value is trying to be set on a copy of a slice from a DataFrame.\n",
      "Try using .loc[row_indexer,col_indexer] = value instead\n",
      "\n",
      "See the caveats in the documentation: https://pandas.pydata.org/pandas-docs/stable/user_guide/indexing.html#returning-a-view-versus-a-copy\n",
      "  videos['wer'] = videos.apply(lambda row: calculate_wer(row), axis =1 )\n"
     ]
    }
   ],
   "source": [
    "# calculate Word Error Rate\n",
    "videos = videos.dropna(axis = 0, subset = 'human_transcript')\n",
    "\n",
    "def calculate_wer(row):\n",
    "    return wer(row['human_transcript'], row['computer_transcript'])\n",
    "\n",
    "videos['wer'] = videos.apply(lambda row: calculate_wer(row), axis =1 )"
   ]
  },
  {
   "cell_type": "code",
   "execution_count": 116,
   "id": "b8ff18b9",
   "metadata": {},
   "outputs": [
    {
     "name": "stderr",
     "output_type": "stream",
     "text": [
      "/var/folders/88/g7gb2zlj44lfv2_8p54ms0880000gn/T/ipykernel_4088/682080830.py:7: SettingWithCopyWarning: \n",
      "A value is trying to be set on a copy of a slice from a DataFrame.\n",
      "Try using .loc[row_indexer,col_indexer] = value instead\n",
      "\n",
      "See the caveats in the documentation: https://pandas.pydata.org/pandas-docs/stable/user_guide/indexing.html#returning-a-view-versus-a-copy\n",
      "  videos['bleu_score'] = videos.apply(lambda row: calculate_bleu(row), axis =1 )\n"
     ]
    }
   ],
   "source": [
    "# calculate BLEU score\n",
    "chencherry = bleu_score.SmoothingFunction()\n",
    "\n",
    "def calculate_bleu(row):\n",
    "    return bleu_score.sentence_bleu(row['human_transcript'].split(), row['computer_transcript'].split(), smoothing_function=chencherry.method1)\n",
    "\n",
    "videos['bleu_score'] = videos.apply(lambda row: calculate_bleu(row), axis =1 )"
   ]
  },
  {
   "cell_type": "code",
   "execution_count": 120,
   "id": "bca22c72",
   "metadata": {},
   "outputs": [
    {
     "name": "stderr",
     "output_type": "stream",
     "text": [
      "/var/folders/88/g7gb2zlj44lfv2_8p54ms0880000gn/T/ipykernel_4088/4091047548.py:3: SettingWithCopyWarning: \n",
      "A value is trying to be set on a copy of a slice from a DataFrame.\n",
      "Try using .loc[row_indexer,col_indexer] = value instead\n",
      "\n",
      "See the caveats in the documentation: https://pandas.pydata.org/pandas-docs/stable/user_guide/indexing.html#returning-a-view-versus-a-copy\n",
      "  videos.runtime = pd.to_timedelta(videos['runtime']).dt.total_seconds()\n"
     ]
    }
   ],
   "source": [
    "# convert runtime column to seconds for easier correlations\n",
    "\n",
    "videos.runtime = pd.to_timedelta(videos['runtime']).dt.total_seconds()\n"
   ]
  },
  {
   "cell_type": "code",
   "execution_count": 122,
   "id": "60102508",
   "metadata": {},
   "outputs": [
    {
     "data": {
      "text/html": [
       "<div>\n",
       "<style scoped>\n",
       "    .dataframe tbody tr th:only-of-type {\n",
       "        vertical-align: middle;\n",
       "    }\n",
       "\n",
       "    .dataframe tbody tr th {\n",
       "        vertical-align: top;\n",
       "    }\n",
       "\n",
       "    .dataframe thead th {\n",
       "        text-align: right;\n",
       "    }\n",
       "</style>\n",
       "<table border=\"1\" class=\"dataframe\">\n",
       "  <thead>\n",
       "    <tr style=\"text-align: right;\">\n",
       "      <th></th>\n",
       "      <th>runtime</th>\n",
       "      <th>year</th>\n",
       "      <th>automl_confidence_avg</th>\n",
       "      <th>automl_confidence_min</th>\n",
       "      <th>automl_confidence_max</th>\n",
       "      <th>computer_sentiment</th>\n",
       "      <th>computer_magnitude</th>\n",
       "      <th>human_sentiment</th>\n",
       "      <th>human_magnitude</th>\n",
       "      <th>wer</th>\n",
       "      <th>bleu_score</th>\n",
       "    </tr>\n",
       "  </thead>\n",
       "  <tbody>\n",
       "    <tr>\n",
       "      <th>runtime</th>\n",
       "      <td>1.000000</td>\n",
       "      <td>0.442688</td>\n",
       "      <td>0.094118</td>\n",
       "      <td>-0.618208</td>\n",
       "      <td>0.345234</td>\n",
       "      <td>-0.329642</td>\n",
       "      <td>0.860688</td>\n",
       "      <td>-0.293020</td>\n",
       "      <td>0.553226</td>\n",
       "      <td>-0.474842</td>\n",
       "      <td>-0.323887</td>\n",
       "    </tr>\n",
       "    <tr>\n",
       "      <th>year</th>\n",
       "      <td>0.442688</td>\n",
       "      <td>1.000000</td>\n",
       "      <td>0.478383</td>\n",
       "      <td>-0.108663</td>\n",
       "      <td>0.335830</td>\n",
       "      <td>-0.455911</td>\n",
       "      <td>0.529469</td>\n",
       "      <td>-0.291700</td>\n",
       "      <td>-0.178796</td>\n",
       "      <td>-0.690724</td>\n",
       "      <td>-0.267553</td>\n",
       "    </tr>\n",
       "    <tr>\n",
       "      <th>automl_confidence_avg</th>\n",
       "      <td>0.094118</td>\n",
       "      <td>0.478383</td>\n",
       "      <td>1.000000</td>\n",
       "      <td>0.372022</td>\n",
       "      <td>0.378906</td>\n",
       "      <td>-0.414185</td>\n",
       "      <td>0.052426</td>\n",
       "      <td>-0.342371</td>\n",
       "      <td>-0.349979</td>\n",
       "      <td>-0.745298</td>\n",
       "      <td>-0.275368</td>\n",
       "    </tr>\n",
       "    <tr>\n",
       "      <th>automl_confidence_min</th>\n",
       "      <td>-0.618208</td>\n",
       "      <td>-0.108663</td>\n",
       "      <td>0.372022</td>\n",
       "      <td>1.000000</td>\n",
       "      <td>-0.441444</td>\n",
       "      <td>0.087679</td>\n",
       "      <td>-0.405765</td>\n",
       "      <td>0.077874</td>\n",
       "      <td>-0.804380</td>\n",
       "      <td>0.052555</td>\n",
       "      <td>0.467260</td>\n",
       "    </tr>\n",
       "    <tr>\n",
       "      <th>automl_confidence_max</th>\n",
       "      <td>0.345234</td>\n",
       "      <td>0.335830</td>\n",
       "      <td>0.378906</td>\n",
       "      <td>-0.441444</td>\n",
       "      <td>1.000000</td>\n",
       "      <td>-0.551604</td>\n",
       "      <td>0.276247</td>\n",
       "      <td>-0.430406</td>\n",
       "      <td>0.448252</td>\n",
       "      <td>-0.513544</td>\n",
       "      <td>-0.935678</td>\n",
       "    </tr>\n",
       "    <tr>\n",
       "      <th>computer_sentiment</th>\n",
       "      <td>-0.329642</td>\n",
       "      <td>-0.455911</td>\n",
       "      <td>-0.414185</td>\n",
       "      <td>0.087679</td>\n",
       "      <td>-0.551604</td>\n",
       "      <td>1.000000</td>\n",
       "      <td>-0.331573</td>\n",
       "      <td>0.665717</td>\n",
       "      <td>-0.075656</td>\n",
       "      <td>0.437212</td>\n",
       "      <td>0.408066</td>\n",
       "    </tr>\n",
       "    <tr>\n",
       "      <th>computer_magnitude</th>\n",
       "      <td>0.860688</td>\n",
       "      <td>0.529469</td>\n",
       "      <td>0.052426</td>\n",
       "      <td>-0.405765</td>\n",
       "      <td>0.276247</td>\n",
       "      <td>-0.331573</td>\n",
       "      <td>1.000000</td>\n",
       "      <td>-0.361601</td>\n",
       "      <td>0.410944</td>\n",
       "      <td>-0.473656</td>\n",
       "      <td>-0.267366</td>\n",
       "    </tr>\n",
       "    <tr>\n",
       "      <th>human_sentiment</th>\n",
       "      <td>-0.293020</td>\n",
       "      <td>-0.291700</td>\n",
       "      <td>-0.342371</td>\n",
       "      <td>0.077874</td>\n",
       "      <td>-0.430406</td>\n",
       "      <td>0.665717</td>\n",
       "      <td>-0.361601</td>\n",
       "      <td>1.000000</td>\n",
       "      <td>-0.184429</td>\n",
       "      <td>0.303641</td>\n",
       "      <td>0.395969</td>\n",
       "    </tr>\n",
       "    <tr>\n",
       "      <th>human_magnitude</th>\n",
       "      <td>0.553226</td>\n",
       "      <td>-0.178796</td>\n",
       "      <td>-0.349979</td>\n",
       "      <td>-0.804380</td>\n",
       "      <td>0.448252</td>\n",
       "      <td>-0.075656</td>\n",
       "      <td>0.410944</td>\n",
       "      <td>-0.184429</td>\n",
       "      <td>1.000000</td>\n",
       "      <td>0.136240</td>\n",
       "      <td>-0.455518</td>\n",
       "    </tr>\n",
       "    <tr>\n",
       "      <th>wer</th>\n",
       "      <td>-0.474842</td>\n",
       "      <td>-0.690724</td>\n",
       "      <td>-0.745298</td>\n",
       "      <td>0.052555</td>\n",
       "      <td>-0.513544</td>\n",
       "      <td>0.437212</td>\n",
       "      <td>-0.473656</td>\n",
       "      <td>0.303641</td>\n",
       "      <td>0.136240</td>\n",
       "      <td>1.000000</td>\n",
       "      <td>0.490309</td>\n",
       "    </tr>\n",
       "    <tr>\n",
       "      <th>bleu_score</th>\n",
       "      <td>-0.323887</td>\n",
       "      <td>-0.267553</td>\n",
       "      <td>-0.275368</td>\n",
       "      <td>0.467260</td>\n",
       "      <td>-0.935678</td>\n",
       "      <td>0.408066</td>\n",
       "      <td>-0.267366</td>\n",
       "      <td>0.395969</td>\n",
       "      <td>-0.455518</td>\n",
       "      <td>0.490309</td>\n",
       "      <td>1.000000</td>\n",
       "    </tr>\n",
       "  </tbody>\n",
       "</table>\n",
       "</div>"
      ],
      "text/plain": [
       "                        runtime      year  automl_confidence_avg  \\\n",
       "runtime                1.000000  0.442688               0.094118   \n",
       "year                   0.442688  1.000000               0.478383   \n",
       "automl_confidence_avg  0.094118  0.478383               1.000000   \n",
       "automl_confidence_min -0.618208 -0.108663               0.372022   \n",
       "automl_confidence_max  0.345234  0.335830               0.378906   \n",
       "computer_sentiment    -0.329642 -0.455911              -0.414185   \n",
       "computer_magnitude     0.860688  0.529469               0.052426   \n",
       "human_sentiment       -0.293020 -0.291700              -0.342371   \n",
       "human_magnitude        0.553226 -0.178796              -0.349979   \n",
       "wer                   -0.474842 -0.690724              -0.745298   \n",
       "bleu_score            -0.323887 -0.267553              -0.275368   \n",
       "\n",
       "                       automl_confidence_min  automl_confidence_max  \\\n",
       "runtime                            -0.618208               0.345234   \n",
       "year                               -0.108663               0.335830   \n",
       "automl_confidence_avg               0.372022               0.378906   \n",
       "automl_confidence_min               1.000000              -0.441444   \n",
       "automl_confidence_max              -0.441444               1.000000   \n",
       "computer_sentiment                  0.087679              -0.551604   \n",
       "computer_magnitude                 -0.405765               0.276247   \n",
       "human_sentiment                     0.077874              -0.430406   \n",
       "human_magnitude                    -0.804380               0.448252   \n",
       "wer                                 0.052555              -0.513544   \n",
       "bleu_score                          0.467260              -0.935678   \n",
       "\n",
       "                       computer_sentiment  computer_magnitude  \\\n",
       "runtime                         -0.329642            0.860688   \n",
       "year                            -0.455911            0.529469   \n",
       "automl_confidence_avg           -0.414185            0.052426   \n",
       "automl_confidence_min            0.087679           -0.405765   \n",
       "automl_confidence_max           -0.551604            0.276247   \n",
       "computer_sentiment               1.000000           -0.331573   \n",
       "computer_magnitude              -0.331573            1.000000   \n",
       "human_sentiment                  0.665717           -0.361601   \n",
       "human_magnitude                 -0.075656            0.410944   \n",
       "wer                              0.437212           -0.473656   \n",
       "bleu_score                       0.408066           -0.267366   \n",
       "\n",
       "                       human_sentiment  human_magnitude       wer  bleu_score  \n",
       "runtime                      -0.293020         0.553226 -0.474842   -0.323887  \n",
       "year                         -0.291700        -0.178796 -0.690724   -0.267553  \n",
       "automl_confidence_avg        -0.342371        -0.349979 -0.745298   -0.275368  \n",
       "automl_confidence_min         0.077874        -0.804380  0.052555    0.467260  \n",
       "automl_confidence_max        -0.430406         0.448252 -0.513544   -0.935678  \n",
       "computer_sentiment            0.665717        -0.075656  0.437212    0.408066  \n",
       "computer_magnitude           -0.361601         0.410944 -0.473656   -0.267366  \n",
       "human_sentiment               1.000000        -0.184429  0.303641    0.395969  \n",
       "human_magnitude              -0.184429         1.000000  0.136240   -0.455518  \n",
       "wer                           0.303641         0.136240  1.000000    0.490309  \n",
       "bleu_score                    0.395969        -0.455518  0.490309    1.000000  "
      ]
     },
     "execution_count": 122,
     "metadata": {},
     "output_type": "execute_result"
    }
   ],
   "source": [
    "videos.corr()"
   ]
  },
  {
   "cell_type": "code",
   "execution_count": null,
   "id": "00208e9c",
   "metadata": {},
   "outputs": [],
   "source": []
  }
 ],
 "metadata": {
  "kernelspec": {
   "display_name": "Python 3 (ipykernel)",
   "language": "python",
   "name": "python3"
  },
  "language_info": {
   "codemirror_mode": {
    "name": "ipython",
    "version": 3
   },
   "file_extension": ".py",
   "mimetype": "text/x-python",
   "name": "python",
   "nbconvert_exporter": "python",
   "pygments_lexer": "ipython3",
   "version": "3.9.12"
  }
 },
 "nbformat": 4,
 "nbformat_minor": 5
}
